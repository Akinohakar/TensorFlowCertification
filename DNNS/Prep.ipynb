{
 "cells": [
  {
   "cell_type": "code",
   "execution_count": 21,
   "metadata": {},
   "outputs": [
    {
     "name": "stdout",
     "output_type": "stream",
     "text": [
      "1\n",
      "-10\n",
      "20\n",
      "Here\n",
      "-10\n",
      "1\n",
      "20\n",
      "---------\n",
      "20\n",
      "1\n",
      "-10\n",
      "1 [1, 2]\n"
     ]
    }
   ],
   "source": [
    "class NodeBST:\n",
    "    \n",
    "    def __init__(self,value) -> None:\n",
    "        self.value=value\n",
    "        self.left=None\n",
    "        self.right=None\n",
    "    \n",
    "class BST:\n",
    "    def __init__(self,root) -> None:\n",
    "        self.root=root\n",
    "        \n",
    "    def add_elements_bst(self,elements:list):\n",
    "        for element in elements:\n",
    "            self.root=self.add_element_bst(self,element)\n",
    "            \n",
    "            \n",
    "    def add_element_bst(self,element):\n",
    "        return self.add_node(self.root,element)\n",
    "    \n",
    "    def add_node(self,root,element):\n",
    "        if root==None:\n",
    "            return NodeBST(element)\n",
    "        elif element<root.value:\n",
    "            root.left=self.add_node(root.left,element)\n",
    "        elif element>root.value:\n",
    "            root.right=self.add_node(root.right,element)\n",
    "        return root\n",
    "    \n",
    "    def preorder(self):\n",
    "        self.preorder_wrapper(self.root)\n",
    "        \n",
    "    \n",
    "    \n",
    "    def preorder_wrapper(self,root):\n",
    "        if not root:\n",
    "            return \n",
    "        print(root.value)\n",
    "        self.preorder_wrapper(root.left)\n",
    "        self.preorder_wrapper(root.right)\n",
    "    \n",
    "    def inorder(self):\n",
    "        self.inorder_wrapper(self.root)\n",
    "    \n",
    "    def inorder_wrapper(self,root):\n",
    "        if not root:\n",
    "            return \n",
    "        self.inorder_wrapper(root.left)\n",
    "        print(root.value)\n",
    "        self.inorder_wrapper(root.right)\n",
    "    \n",
    "    def invert_bst(self):\n",
    "        self.root=self.invert_bst_wrapper(self.root)\n",
    "    \n",
    "    def invert_bst_wrapper(self,root):\n",
    "        if not root:\n",
    "            return\n",
    "        temp=root.right\n",
    "        root.right=root.left\n",
    "        root.left=temp\n",
    "        self.invert_bst_wrapper(root.left)\n",
    "        self.invert_bst_wrapper(root.right)\n",
    "        return root\n",
    "        \n",
    "        \n",
    "                \n",
    "test_list=[1,-10,20]\n",
    "mybst=BST(None)\n",
    "for e in test_list:\n",
    "    mybst.root=mybst.add_node(mybst.root,e)\n",
    "mybst.preorder()\n",
    "print(\"Here\")\n",
    "mybst.inorder()\n",
    "mybst.invert_bst()\n",
    "print(\"---------\")\n",
    "mybst.inorder()\n",
    "tona=[1,2]\n",
    "fina,tonaco=tona\n",
    "print(fina)\n",
    "\n",
    "\n",
    "\n",
    "\n",
    "    \n",
    "    \n",
    "    \n",
    "    \n",
    "                     "
   ]
  },
  {
   "cell_type": "code",
   "execution_count": 17,
   "metadata": {},
   "outputs": [
    {
     "name": "stdout",
     "output_type": "stream",
     "text": [
      "{80, 50, 30}\n",
      "{10, 20, 30}\n"
     ]
    },
    {
     "data": {
      "text/plain": [
       "{40}"
      ]
     },
     "execution_count": 17,
     "metadata": {},
     "output_type": "execute_result"
    }
   ],
   "source": [
    "import itertools as iter \n",
    "\n",
    "# # array=[x for x in range(0,10000)]\n",
    "\n",
    "# print(list(iter.permutations(array,5)))\n",
    "\n",
    "# for i in range (1,len(array)+1):\n",
    "#     for combination in iter.permutations(array,i):\n",
    "#         print(combination)\n",
    "        \n",
    "        \n",
    "string=\"This is a string\"\n",
    "tona=set()\n",
    "tona.add(10)\n",
    "tona.add(20)\n",
    "tona.add(30)\n",
    "fina=set([30,50,80])\n",
    "print(fina)\n",
    "tona.intersection(fina)\n",
    "\n",
    "print(tona)\n",
    "\n",
    "tona.symmetric_difference(set([10,20,30,40]))"
   ]
  }
 ],
 "metadata": {
  "kernelspec": {
   "display_name": "Python 3",
   "language": "python",
   "name": "python3"
  },
  "language_info": {
   "codemirror_mode": {
    "name": "ipython",
    "version": 3
   },
   "file_extension": ".py",
   "mimetype": "text/x-python",
   "name": "python",
   "nbconvert_exporter": "python",
   "pygments_lexer": "ipython3",
   "version": "3.10.0"
  }
 },
 "nbformat": 4,
 "nbformat_minor": 2
}
