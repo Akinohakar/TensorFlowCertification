{
 "cells": [
  {
   "cell_type": "markdown",
   "metadata": {},
   "source": [
    " This an introduction to text processing with keras  \n",
    " We will use a few words for this example"
   ]
  },
  {
   "cell_type": "code",
   "execution_count": 1,
   "metadata": {},
   "outputs": [],
   "source": [
    "import tensorflow as tf"
   ]
  },
  {
   "cell_type": "code",
   "execution_count": 4,
   "metadata": {},
   "outputs": [],
   "source": [
    "#Dependecies\n",
    "from tensorflow.keras.preprocessing.text import Tokenizer\n",
    "from tensorflow.keras.preprocessing.sequence import pad_sequences\n"
   ]
  },
  {
   "cell_type": "code",
   "execution_count": 7,
   "metadata": {},
   "outputs": [],
   "source": [
    "sentences=[\n",
    "    \"The sun sets over the hills in a blaze of orange and red.\",\n",
    "    \"Cats are known for their curiosity and playful nature.\",\n",
    "    \"Technology has advanced rapidly in the last decade.\",\n",
    "    \"Reading books can transport you to different worlds.\",\n",
    "    \"Cooking is both an art and a science.\",\n",
    "    \"Music has the power to evoke strong emotions.\",\n",
    "    \"The universe is vast and full of mysteries.\",\n",
    "    \"History teaches us about the triumphs and failures of the past.\",\n",
    "    \"Mathematics is the language of the universe.\",\n",
    "    \"Poetry uses words to paint pictures in the mind.\",\n",
    "    \"The ocean's depths are largely unexplored.\",\n",
    "    \"Education is the key to a better future.\",\n",
    "    \"Philosophy challenges us to think deeply about life.\",\n",
    "    \"Artists use their creativity to express themselves.\",\n",
    "    \"Dreams are the mind's way of processing experiences.\",\n",
    "    \"Friendship is a treasure that enriches our lives.\",\n",
    "    \"Nature's beauty is a source of inspiration.\",\n",
    "    \"Traveling allows you to experience different cultures.\",\n",
    "    \"Health is our most valuable asset.\",\n",
    "    \"Comedy can lighten even the darkest of days.\",\n",
    "    \"Space exploration expands our understanding of the cosmos.\",\n",
    "    \"Language is the bridge that connects people.\",\n",
    "    \"A good book can be a loyal companion.\",\n",
    "    \"The rainforest is a biodiversity hotspot.\",\n",
    "    \"Movies have the power to transport us to different realities.\",\n",
    "    \"Science seeks to explain the workings of the world.\",\n",
    "    \"A healthy diet is essential for well-being.\",\n",
    "    \"Animals have unique personalities and behaviors.\",\n",
    "    \"Photography captures moments in time.\",\n",
    "    \"Gardening is a rewarding and relaxing hobby.\",\n",
    "    \"The internet has revolutionized communication.\",\n",
    "    \"Playing sports is good for both body and mind.\",\n",
    "    \"Ancient civilizations hold many lessons for us.\",\n",
    "    \"The stars have guided travelers for centuries.\",\n",
    "    \"Innovation drives progress in society.\",\n",
    "    \"Love is a complex and powerful emotion.\",\n",
    "    \"Architecture reflects the culture and history of a place.\",\n",
    "    \"The human brain is capable of incredible things.\",\n",
    "    \"Climate change is a critical global challenge.\",\n",
    "    \"A good laugh is a potent stress reliever.\",\n",
    "    \"Literature opens a window to different experiences.\",\n",
    "    \"The mountains call to those who seek adventure.\",\n",
    "    \"Dance is a celebration of movement and rhythm.\",\n",
    "    \"Education empowers individuals and communities.\",\n",
    "    \"Family is a bond that provides strength and support.\",\n",
    "    \"Time is a precious and fleeting resource.\",\n",
    "    \"Cooking is a way to bring people together.\",\n",
    "    \"Meditation promotes mental clarity and peace.\",\n",
    "    \"Children's imagination knows no bounds.\",\n",
    "    \"Music transcends language and cultural barriers.\",\n",
    "    \"The desert landscape holds a stark beauty.\",\n",
    "    \"Travel broadens the mind and spirit.\",\n",
    "    \"A garden is a sanctuary of peace and beauty.\",\n",
    "    \"Art reflects the soul of a culture.\",\n",
    "    \"The night sky is a canvas of stars.\",\n",
    "    \"The human spirit is resilient and enduring.\",\n",
    "    \"Education is a journey, not a destination.\",\n",
    "    \"Animals play a vital role in our ecosystem.\",\n",
    "    \"Laughter is a universal language.\",\n",
    "    \"A good story can captivate the heart and mind.\",\n",
    "    \"The ocean's waves are both powerful and calming.\",\n",
    "    \"Technology shapes our modern world.\",\n",
    "    \"The forest is a haven of tranquility.\",\n",
    "    \"Kindness is a gift that keeps on giving.\",\n",
    "    \"The moon has been a source of wonder for millennia.\",\n",
    "    \"Creativity is the spark of innovation.\",\n",
    "    \"Exploring new places can be a thrilling adventure.\",\n",
    "    \"Health is wealth, and peace of mind is happiness.\",\n",
    "    \"Art is an exploration of the human experience.\",\n",
    "    \"The changing seasons remind us of life's cycles.\",\n",
    "    \"Music is a universal language that unites us.\",\n",
    "    \"A good teacher can inspire hope and ignite imagination.\",\n",
    "    \"The power of the human mind is limitless.\",\n",
    "    \"Nature teaches us the art of living.\",\n",
    "    \"Friendship is a light in the darkness.\",\n",
    "    \"Books are portals to other dimensions.\",\n",
    "    \"Understanding different cultures enriches our own perspective.\",\n",
    "    \"The night sky is full of stories and legends.\",\n",
    "    \"Painting is silent poetry, and poetry is painting that speaks.\",\n",
    "    \"Travel is the only thing you buy that makes you richer.\",\n",
    "    \"The art of conversation lies in listening.\",\n",
    "    \"A smile is a curve that sets everything straight.\",\n",
    "    \"Nature's music is never over; her silences are pauses, not conclusions.\",\n",
    "    \"A journey of a thousand miles begins\"\n",
    "]\n",
    "\n",
    "\n",
    "tokenizer_of_sentences=Tokenizer(num_words=500,oov_token=\"<UNDF>\")\n",
    "tokenizer_of_sentences.fit_on_texts(sentences)"
   ]
  },
  {
   "cell_type": "code",
   "execution_count": 8,
   "metadata": {},
   "outputs": [
    {
     "name": "stdout",
     "output_type": "stream",
     "text": [
      "{'<UNDF>': 1, 'the': 2, 'a': 3, 'is': 4, 'of': 5, 'and': 6, 'to': 7, 'in': 8, 'that': 9, 'us': 10, 'are': 11, 'for': 12, 'can': 13, 'mind': 14, 'our': 15, 'different': 16, 'art': 17, 'language': 18, 'good': 19, 'has': 20, 'you': 21, 'music': 22, 'human': 23, 'both': 24, 'power': 25, 'poetry': 26, 'education': 27, 'beauty': 28, 'have': 29, 'peace': 30, 'sets': 31, 'over': 32, 'their': 33, 'nature': 34, 'technology': 35, 'books': 36, 'transport': 37, 'cooking': 38, 'an': 39, 'science': 40, 'universe': 41, 'full': 42, 'history': 43, 'teaches': 44, 'about': 45, \"ocean's\": 46, 'creativity': 47, 'way': 48, 'experiences': 49, 'friendship': 50, 'enriches': 51, \"nature's\": 52, 'source': 53, 'experience': 54, 'cultures': 55, 'health': 56, 'exploration': 57, 'understanding': 58, 'people': 59, 'be': 60, 'world': 61, 'animals': 62, 'time': 63, 'stars': 64, 'innovation': 65, 'powerful': 66, 'reflects': 67, 'culture': 68, 'adventure': 69, 'imagination': 70, 'travel': 71, 'spirit': 72, 'night': 73, 'sky': 74, 'journey': 75, 'not': 76, 'universal': 77, 'painting': 78, 'sun': 79, 'hills': 80, 'blaze': 81, 'orange': 82, 'red': 83, 'cats': 84, 'known': 85, 'curiosity': 86, 'playful': 87, 'advanced': 88, 'rapidly': 89, 'last': 90, 'decade': 91, 'reading': 92, 'worlds': 93, 'evoke': 94, 'strong': 95, 'emotions': 96, 'vast': 97, 'mysteries': 98, 'triumphs': 99, 'failures': 100, 'past': 101, 'mathematics': 102, 'uses': 103, 'words': 104, 'paint': 105, 'pictures': 106, 'depths': 107, 'largely': 108, 'unexplored': 109, 'key': 110, 'better': 111, 'future': 112, 'philosophy': 113, 'challenges': 114, 'think': 115, 'deeply': 116, 'life': 117, 'artists': 118, 'use': 119, 'express': 120, 'themselves': 121, 'dreams': 122, \"mind's\": 123, 'processing': 124, 'treasure': 125, 'lives': 126, 'inspiration': 127, 'traveling': 128, 'allows': 129, 'most': 130, 'valuable': 131, 'asset': 132, 'comedy': 133, 'lighten': 134, 'even': 135, 'darkest': 136, 'days': 137, 'space': 138, 'expands': 139, 'cosmos': 140, 'bridge': 141, 'connects': 142, 'book': 143, 'loyal': 144, 'companion': 145, 'rainforest': 146, 'biodiversity': 147, 'hotspot': 148, 'movies': 149, 'realities': 150, 'seeks': 151, 'explain': 152, 'workings': 153, 'healthy': 154, 'diet': 155, 'essential': 156, 'well': 157, 'being': 158, 'unique': 159, 'personalities': 160, 'behaviors': 161, 'photography': 162, 'captures': 163, 'moments': 164, 'gardening': 165, 'rewarding': 166, 'relaxing': 167, 'hobby': 168, 'internet': 169, 'revolutionized': 170, 'communication': 171, 'playing': 172, 'sports': 173, 'body': 174, 'ancient': 175, 'civilizations': 176, 'hold': 177, 'many': 178, 'lessons': 179, 'guided': 180, 'travelers': 181, 'centuries': 182, 'drives': 183, 'progress': 184, 'society': 185, 'love': 186, 'complex': 187, 'emotion': 188, 'architecture': 189, 'place': 190, 'brain': 191, 'capable': 192, 'incredible': 193, 'things': 194, 'climate': 195, 'change': 196, 'critical': 197, 'global': 198, 'challenge': 199, 'laugh': 200, 'potent': 201, 'stress': 202, 'reliever': 203, 'literature': 204, 'opens': 205, 'window': 206, 'mountains': 207, 'call': 208, 'those': 209, 'who': 210, 'seek': 211, 'dance': 212, 'celebration': 213, 'movement': 214, 'rhythm': 215, 'empowers': 216, 'individuals': 217, 'communities': 218, 'family': 219, 'bond': 220, 'provides': 221, 'strength': 222, 'support': 223, 'precious': 224, 'fleeting': 225, 'resource': 226, 'bring': 227, 'together': 228, 'meditation': 229, 'promotes': 230, 'mental': 231, 'clarity': 232, \"children's\": 233, 'knows': 234, 'no': 235, 'bounds': 236, 'transcends': 237, 'cultural': 238, 'barriers': 239, 'desert': 240, 'landscape': 241, 'holds': 242, 'stark': 243, 'broadens': 244, 'garden': 245, 'sanctuary': 246, 'soul': 247, 'canvas': 248, 'resilient': 249, 'enduring': 250, 'destination': 251, 'play': 252, 'vital': 253, 'role': 254, 'ecosystem': 255, 'laughter': 256, 'story': 257, 'captivate': 258, 'heart': 259, 'waves': 260, 'calming': 261, 'shapes': 262, 'modern': 263, 'forest': 264, 'haven': 265, 'tranquility': 266, 'kindness': 267, 'gift': 268, 'keeps': 269, 'on': 270, 'giving': 271, 'moon': 272, 'been': 273, 'wonder': 274, 'millennia': 275, 'spark': 276, 'exploring': 277, 'new': 278, 'places': 279, 'thrilling': 280, 'wealth': 281, 'happiness': 282, 'changing': 283, 'seasons': 284, 'remind': 285, \"life's\": 286, 'cycles': 287, 'unites': 288, 'teacher': 289, 'inspire': 290, 'hope': 291, 'ignite': 292, 'limitless': 293, 'living': 294, 'light': 295, 'darkness': 296, 'portals': 297, 'other': 298, 'dimensions': 299, 'own': 300, 'perspective': 301, 'stories': 302, 'legends': 303, 'silent': 304, 'speaks': 305, 'only': 306, 'thing': 307, 'buy': 308, 'makes': 309, 'richer': 310, 'conversation': 311, 'lies': 312, 'listening': 313, 'smile': 314, 'curve': 315, 'everything': 316, 'straight': 317, 'never': 318, 'her': 319, 'silences': 320, 'pauses': 321, 'conclusions': 322, 'thousand': 323, 'miles': 324, 'begins': 325}\n"
     ]
    }
   ],
   "source": [
    "dict_words=tokenizer_of_sentences.word_index\n",
    "print(dict_words)"
   ]
  },
  {
   "cell_type": "code",
   "execution_count": 16,
   "metadata": {},
   "outputs": [
    {
     "name": "stdout",
     "output_type": "stream",
     "text": [
      "Labeled sentences\n",
      "[[2, 79, 31, 32, 2, 80, 8, 3, 81, 5, 82, 6, 83], [84, 11, 85, 12, 33, 86, 6, 87, 34], [35, 20, 88, 89, 8, 2, 90, 91], [92, 36, 13, 37, 21, 7, 16, 93], [38, 4, 24, 39, 17, 6, 3, 40], [22, 20, 2, 25, 7, 94, 95, 96], [2, 41, 4, 97, 6, 42, 5, 98], [43, 44, 10, 45, 2, 99, 6, 100, 5, 2, 101], [102, 4, 2, 18, 5, 2, 41], [26, 103, 104, 7, 105, 106, 8, 2, 14], [2, 46, 107, 11, 108, 109], [27, 4, 2, 110, 7, 3, 111, 112], [113, 114, 10, 7, 115, 116, 45, 117], [118, 119, 33, 47, 7, 120, 121], [122, 11, 2, 123, 48, 5, 124, 49], [50, 4, 3, 125, 9, 51, 15, 126], [52, 28, 4, 3, 53, 5, 127], [128, 129, 21, 7, 54, 16, 55], [56, 4, 15, 130, 131, 132], [133, 13, 134, 135, 2, 136, 5, 137], [138, 57, 139, 15, 58, 5, 2, 140], [18, 4, 2, 141, 9, 142, 59], [3, 19, 143, 13, 60, 3, 144, 145], [2, 146, 4, 3, 147, 148], [149, 29, 2, 25, 7, 37, 10, 7, 16, 150], [40, 151, 7, 152, 2, 153, 5, 2, 61], [3, 154, 155, 4, 156, 12, 157, 158], [62, 29, 159, 160, 6, 161], [162, 163, 164, 8, 63], [165, 4, 3, 166, 6, 167, 168], [2, 169, 20, 170, 171], [172, 173, 4, 19, 12, 24, 174, 6, 14], [175, 176, 177, 178, 179, 12, 10], [2, 64, 29, 180, 181, 12, 182], [65, 183, 184, 8, 185], [186, 4, 3, 187, 6, 66, 188], [189, 67, 2, 68, 6, 43, 5, 3, 190], [2, 23, 191, 4, 192, 5, 193, 194], [195, 196, 4, 3, 197, 198, 199], [3, 19, 200, 4, 3, 201, 202, 203], [204, 205, 3, 206, 7, 16, 49], [2, 207, 208, 7, 209, 210, 211, 69], [212, 4, 3, 213, 5, 214, 6, 215], [27, 216, 217, 6, 218], [219, 4, 3, 220, 9, 221, 222, 6, 223], [63, 4, 3, 224, 6, 225, 226], [38, 4, 3, 48, 7, 227, 59, 228], [229, 230, 231, 232, 6, 30], [233, 70, 234, 235, 236], [22, 237, 18, 6, 238, 239], [2, 240, 241, 242, 3, 243, 28], [71, 244, 2, 14, 6, 72], [3, 245, 4, 3, 246, 5, 30, 6, 28], [17, 67, 2, 247, 5, 3, 68], [2, 73, 74, 4, 3, 248, 5, 64], [2, 23, 72, 4, 249, 6, 250], [27, 4, 3, 75, 76, 3, 251], [62, 252, 3, 253, 254, 8, 15, 255], [256, 4, 3, 77, 18], [3, 19, 257, 13, 258, 2, 259, 6, 14], [2, 46, 260, 11, 24, 66, 6, 261], [35, 262, 15, 263, 61], [2, 264, 4, 3, 265, 5, 266], [267, 4, 3, 268, 9, 269, 270, 271], [2, 272, 20, 273, 3, 53, 5, 274, 12, 275], [47, 4, 2, 276, 5, 65], [277, 278, 279, 13, 60, 3, 280, 69], [56, 4, 281, 6, 30, 5, 14, 4, 282], [17, 4, 39, 57, 5, 2, 23, 54], [2, 283, 284, 285, 10, 5, 286, 287], [22, 4, 3, 77, 18, 9, 288, 10], [3, 19, 289, 13, 290, 291, 6, 292, 70], [2, 25, 5, 2, 23, 14, 4, 293], [34, 44, 10, 2, 17, 5, 294], [50, 4, 3, 295, 8, 2, 296], [36, 11, 297, 7, 298, 299], [58, 16, 55, 51, 15, 300, 301], [2, 73, 74, 4, 42, 5, 302, 6, 303], [78, 4, 304, 26, 6, 26, 4, 78, 9, 305], [71, 4, 2, 306, 307, 21, 308, 9, 309, 21, 310], [2, 17, 5, 311, 312, 8, 313], [3, 314, 4, 3, 315, 9, 31, 316, 317], [52, 22, 4, 318, 32, 319, 320, 11, 321, 76, 322], [3, 75, 5, 3, 323, 324, 325]]\n",
      "84\n"
     ]
    }
   ],
   "source": [
    "label_encoded_sentences=tokenizer_of_sentences.texts_to_sequences(sentences)\n",
    "print(\"Labeled sentences\")\n",
    "print(label_encoded_sentences)\n",
    "print(len(label_encoded_sentences))\n"
   ]
  },
  {
   "cell_type": "code",
   "execution_count": 15,
   "metadata": {},
   "outputs": [
    {
     "name": "stdout",
     "output_type": "stream",
     "text": [
      "Sentences with padding\n",
      "[[  2  79  31  32   2  80   8   3  81   5  82   6  83]\n",
      " [ 84  11  85  12  33  86   6  87  34   0   0   0   0]\n",
      " [ 35  20  88  89   8   2  90  91   0   0   0   0   0]\n",
      " [ 92  36  13  37  21   7  16  93   0   0   0   0   0]\n",
      " [ 38   4  24  39  17   6   3  40   0   0   0   0   0]\n",
      " [ 22  20   2  25   7  94  95  96   0   0   0   0   0]\n",
      " [  2  41   4  97   6  42   5  98   0   0   0   0   0]\n",
      " [ 43  44  10  45   2  99   6 100   5   2 101   0   0]\n",
      " [102   4   2  18   5   2  41   0   0   0   0   0   0]\n",
      " [ 26 103 104   7 105 106   8   2  14   0   0   0   0]]\n"
     ]
    }
   ],
   "source": [
    "padded=pad_sequences(label_encoded_sentences,padding=\"post\")\n",
    "print(\"Sentences with padding\")\n",
    "print(padded[0:10])"
   ]
  },
  {
   "cell_type": "markdown",
   "metadata": {},
   "source": [
    "### To try later"
   ]
  },
  {
   "cell_type": "code",
   "execution_count": null,
   "metadata": {},
   "outputs": [],
   "source": [
    "# Download the dataset\n",
    "!wget https://storage.googleapis.com/tensorflow-1-public/course3/sarcasm.json"
   ]
  },
  {
   "cell_type": "code",
   "execution_count": null,
   "metadata": {},
   "outputs": [],
   "source": [
    "import json\n",
    "\n",
    "# Load the JSON file\n",
    "with open(\"./sarcasm.json\", 'r') as f:\n",
    "    datastore = json.load(f)"
   ]
  }
 ],
 "metadata": {
  "kernelspec": {
   "display_name": "TFCERTIFICATE",
   "language": "python",
   "name": "python3"
  },
  "language_info": {
   "codemirror_mode": {
    "name": "ipython",
    "version": 3
   },
   "file_extension": ".py",
   "mimetype": "text/x-python",
   "name": "python",
   "nbconvert_exporter": "python",
   "pygments_lexer": "ipython3",
   "version": "3.10.0"
  }
 },
 "nbformat": 4,
 "nbformat_minor": 2
}
